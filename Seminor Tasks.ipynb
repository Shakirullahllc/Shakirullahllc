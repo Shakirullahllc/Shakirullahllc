{
 "cells": [
  {
   "cell_type": "markdown",
   "id": "fe289718-c8d1-4b08-9de3-a0764e24b61a",
   "metadata": {
    "panel-layout": {
     "height": 530.973876953125,
     "visible": true,
     "width": 100
    }
   },
   "source": [
    "# TASK 01 Seminor"
   ]
  },
  {
   "cell_type": "code",
   "execution_count": 122,
   "id": "8cd1e006-d0ae-40e7-a23e-82071db090fe",
   "metadata": {},
   "outputs": [
    {
     "name": "stdout",
     "output_type": "stream",
     "text": [
      "1\n",
      "2\n",
      "3\n",
      "4\n",
      "5\n",
      "6\n",
      "7\n",
      "8\n",
      "9\n",
      "10\n"
     ]
    }
   ],
   "source": [
    "# Print numbers from 1 to 10 using a for loop.\n",
    "for i in range(1, 11):\n",
    "    print(i)"
   ]
  },
  {
   "cell_type": "markdown",
   "id": "d55a8b72-9f1f-40b7-9cf8-2a1c65ae0b82",
   "metadata": {},
   "source": [
    "# TASK 02 Seminor"
   ]
  },
  {
   "cell_type": "code",
   "execution_count": 37,
   "id": "a5cd208e-e9bf-4c2a-bff6-5ada2721442b",
   "metadata": {},
   "outputs": [
    {
     "name": "stdout",
     "output_type": "stream",
     "text": [
      "3 x 1 = 3\n",
      "3 x 2 = 6\n",
      "3 x 3 = 9\n",
      "3 x 4 = 12\n",
      "3 x 5 = 15\n",
      "3 x 6 = 18\n",
      "3 x 7 = 21\n",
      "3 x 8 = 24\n",
      "3 x 9 = 27\n",
      "3 x 10 = 30\n"
     ]
    }
   ],
   "source": [
    "# Print a multiplication table for a given number (3) using a for loop.\n",
    "Table = 3\n",
    "for i in range(1, 11):\n",
    "    print(f\"{Table} x {i} = {Table * i}\")"
   ]
  },
  {
   "cell_type": "markdown",
   "id": "b9810538-1b6b-43ea-a50c-fa1734b1c6a3",
   "metadata": {},
   "source": [
    "# TASK 03 Seminor"
   ]
  },
  {
   "cell_type": "code",
   "execution_count": 54,
   "id": "c7ce4b7b-fd33-467c-a762-1c6f970820a6",
   "metadata": {},
   "outputs": [],
   "source": [
    "# Create a function to add two numbers.\n",
    "def add(a, b):\n",
    "    return a + b"
   ]
  },
  {
   "cell_type": "code",
   "execution_count": 56,
   "id": "6e2c4c77-a9ef-47f2-b15d-9d5426f31660",
   "metadata": {},
   "outputs": [
    {
     "data": {
      "text/plain": [
       "70"
      ]
     },
     "execution_count": 56,
     "metadata": {},
     "output_type": "execute_result"
    }
   ],
   "source": [
    "add(50,20)"
   ]
  },
  {
   "cell_type": "markdown",
   "id": "66095e11-fcbf-4aac-8f4a-28606908ac3e",
   "metadata": {
    "jupyter": {
     "source_hidden": true
    }
   },
   "source": [
    "# TASK 04 Seminor"
   ]
  },
  {
   "cell_type": "code",
   "execution_count": 75,
   "id": "a5a1a4ba-9757-4650-a878-a63140dd1ca3",
   "metadata": {},
   "outputs": [
    {
     "name": "stdout",
     "output_type": "stream",
     "text": [
      "9\n"
     ]
    }
   ],
   "source": [
    "# Use a lambda function to find the square of a number.\n",
    "square = lambda x: x**2\n",
    "print(square(3))"
   ]
  },
  {
   "cell_type": "markdown",
   "id": "a9b87eea-44c9-47f0-8a14-1fb84c28d730",
   "metadata": {
    "jupyter": {
     "source_hidden": true
    }
   },
   "source": [
    "# TASK 05 Seminor"
   ]
  },
  {
   "cell_type": "code",
   "execution_count": 101,
   "id": "dd8bdb18-65a9-41ae-ade2-29bb96d12f96",
   "metadata": {},
   "outputs": [
    {
     "name": "stdout",
     "output_type": "stream",
     "text": [
      "My name is Shakirullah and my registration number is 524 my department is Electrical Engineering Communication\n"
     ]
    }
   ],
   "source": [
    "# Use f-strings to insert a variable in a sentence.\n",
    "name = \"Shakirullah\"\n",
    "Reg = 524\n",
    "dep = \"Electrical Engineering Communication\"\n",
    "string = f\"My name is {name} and my registration number is {Reg} my department is {dep}\"\n",
    "print(string)"
   ]
  }
 ],
 "metadata": {
  "kernelspec": {
   "display_name": "Python 3 (ipykernel)",
   "language": "python",
   "name": "python3"
  },
  "language_info": {
   "codemirror_mode": {
    "name": "ipython",
    "version": 3
   },
   "file_extension": ".py",
   "mimetype": "text/x-python",
   "name": "python",
   "nbconvert_exporter": "python",
   "pygments_lexer": "ipython3",
   "version": "3.12.4"
  },
  "panel-cell-order": [
   "fe289718-c8d1-4b08-9de3-a0764e24b61a"
  ]
 },
 "nbformat": 4,
 "nbformat_minor": 5
}
